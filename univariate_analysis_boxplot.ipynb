{
  "nbformat": 4,
  "nbformat_minor": 0,
  "metadata": {
    "colab": {
      "name": "univariate analysis-boxplot",
      "private_outputs": true,
      "provenance": []
    },
    "kernelspec": {
      "name": "python3",
      "display_name": "Python 3"
    },
    "language_info": {
      "name": "python"
    }
  },
  "cells": [
    {
      "cell_type": "code",
      "metadata": {
        "id": "iUKN9t4nuKoi"
      },
      "source": [
        "import pandas as pd\n",
        "import numpy as np\n",
        "import matplotlib.pyplot as plt\n",
        "import seaborn as sns\n",
        "%matplotlib inline\n",
        "from scipy import stats"
      ],
      "execution_count": null,
      "outputs": []
    },
    {
      "cell_type": "code",
      "metadata": {
        "id": "V2zQAnK4vhit"
      },
      "source": [
        "df = pd. read_excel (r'aspiring_minds_employability_outcomes_2015.xlsx')\n",
        "print(df)"
      ],
      "execution_count": null,
      "outputs": []
    },
    {
      "cell_type": "code",
      "metadata": {
        "id": "63K8TXTIxsvK"
      },
      "source": [
        "df.head()"
      ],
      "execution_count": null,
      "outputs": []
    },
    {
      "cell_type": "code",
      "metadata": {
        "id": "JSfp3Hgex0rN"
      },
      "source": [
        "df.shape"
      ],
      "execution_count": null,
      "outputs": []
    },
    {
      "cell_type": "code",
      "metadata": {
        "id": "vm7-xiIcx59q"
      },
      "source": [
        "df.describe()"
      ],
      "execution_count": null,
      "outputs": []
    },
    {
      "cell_type": "code",
      "metadata": {
        "id": "8DIypd2cyPfl"
      },
      "source": [
        "df.boxplot(column=['ID'])\n",
        "plt.show()\n",
        "#there is no outlier in this column so we find only boxplot for ID"
      ],
      "execution_count": null,
      "outputs": []
    },
    {
      "cell_type": "code",
      "metadata": {
        "id": "gIP56s6szDNL"
      },
      "source": [
        "df.boxplot(column=['Salary'])\n",
        "plt.show()\n",
        "#here there is outlier so we go to detect the outlier for Salary "
      ],
      "execution_count": null,
      "outputs": []
    },
    {
      "cell_type": "code",
      "metadata": {
        "id": "-s1ahMtT8kXG"
      },
      "source": [
        "#detecting outlier for salary \n",
        "def remove_outlier(Salary):\n",
        "  sorted(Salary)\n",
        "  df['Salary'].quantile(0.05)\n",
        "  df['Salary'].quantile(0.95)\n",
        "  Q1=df['Salary'].quantile(0.05)\n",
        "  Q2=df['Salary'].quantile(0.95)\n",
        "  IQR=Q1-Q2\n",
        "  lower_lim=Q1-1.5*IQR\n",
        "  upper_lim=Q2+1.5*IQR\n",
        "  return lower_lim,upper_lim"
      ],
      "execution_count": null,
      "outputs": []
    },
    {
      "cell_type": "code",
      "metadata": {
        "id": "eH4GebchHbPi"
      },
      "source": [
        "#removing outlier\n",
        "lowSalary,highSalary=remove_outlier(df['Salary'])\n",
        "df['Salary']=np.where(df['Salary']>highSalary,highSalary,df['Salary'])\n",
        "df['Salary']=np.where(df['Salary']>lowSalary,lowSalary,df['Salary'])"
      ],
      "execution_count": null,
      "outputs": []
    },
    {
      "cell_type": "code",
      "metadata": {
        "id": "axlSbVfEJUIL"
      },
      "source": [
        "#removed for salary\n",
        "df.boxplot(column=['Salary'])\n",
        "plt.show()"
      ],
      "execution_count": null,
      "outputs": []
    },
    {
      "cell_type": "code",
      "metadata": {
        "id": "5Ior-0XPzLg1"
      },
      "source": [
        "#in this column there will be outlier for 10percentage\n",
        "df.boxplot(column=['10percentage'])\n",
        "plt.show()"
      ],
      "execution_count": null,
      "outputs": []
    },
    {
      "cell_type": "code",
      "metadata": {
        "id": "g0fwiVUZKRVn"
      },
      "source": [
        "#detecting outlier for salary \n",
        "def remove_outlier(percentage):\n",
        "  sorted(percentage)\n",
        "  df['10percentage'].quantile(0.25)\n",
        "  df['10percentage'].quantile(0.95)\n",
        "  Q1=df['10percentage'].quantile(0.25)\n",
        "  Q2=df['10percentage'].quantile(0.95)\n",
        "  IQR=Q1-Q2\n",
        "  lower_lim=Q1-1.5*IQR\n",
        "  upper_lim=Q2+1.5*IQR\n",
        "  return lower_lim,upper_lim\n",
        "#removing outlier\n",
        "lowpercent,highpercent=remove_outlier(df['10percentage'])\n",
        "df['10percentage']=np.where(df['10percentage']>highSalary,highSalary,df['10percentage'])\n",
        "df['10percentage']=np.where(df['10percentage']>lowSalary,lowSalary,df['10percentage'])"
      ],
      "execution_count": null,
      "outputs": []
    },
    {
      "cell_type": "code",
      "metadata": {
        "id": "6i8CSURGzuhX"
      },
      "source": [
        "df.boxplot(column=['12graduation'])\n",
        "plt.show()"
      ],
      "execution_count": null,
      "outputs": []
    },
    {
      "cell_type": "code",
      "metadata": {
        "id": "Xsnx-23HLpeV"
      },
      "source": [
        "#detecting outlier for salary \n",
        "def remove_outlier(graduation):\n",
        "  sorted(graduation)\n",
        "  df['12graduation'].quantile(0.25)\n",
        "  df['12graduation'].quantile(0.95)\n",
        "  Q1=df['12graduation'].quantile(0.25)\n",
        "  Q2=df['12graduation'].quantile(0.95)\n",
        "  IQR=Q1-Q2\n",
        "  lower_lim=Q1-1.5*IQR\n",
        "  upper_lim=Q2+1.5*IQR\n",
        "  return lower_lim,upper_lim\n",
        "#removing outlier\n",
        "lowpercent,highpercent=remove_outlier(df['12graduation'])\n",
        "df['12graduation']=np.where(df['12graduation']>highSalary,highSalary,df['12graduation'])\n",
        "df['12graduation']=np.where(df['12graduation']>lowSalary,lowSalary,df['12graduation'])"
      ],
      "execution_count": null,
      "outputs": []
    },
    {
      "cell_type": "code",
      "metadata": {
        "id": "-OPPPRcj2Jog"
      },
      "source": [
        "df.boxplot(column=['CollegeCityTier'])\n",
        "plt.show()"
      ],
      "execution_count": null,
      "outputs": []
    },
    {
      "cell_type": "code",
      "metadata": {
        "id": "QZ6GTqC5NSY7"
      },
      "source": [
        "df.boxplot(column=['CollegeID'])\n",
        "plt.show()"
      ],
      "execution_count": null,
      "outputs": []
    },
    {
      "cell_type": "code",
      "metadata": {
        "id": "jFNj0lFeNrR8"
      },
      "source": [
        "df.boxplot(column=['12percentage'])\n",
        "plt.show()"
      ],
      "execution_count": null,
      "outputs": []
    },
    {
      "cell_type": "code",
      "metadata": {
        "id": "TXpUkD-jNsAb"
      },
      "source": [
        "df.boxplot(column=['CollegeTier'])\n",
        "plt.show()"
      ],
      "execution_count": null,
      "outputs": []
    },
    {
      "cell_type": "code",
      "metadata": {
        "id": "4O0v7WiJNsve"
      },
      "source": [
        "df.boxplot(column=['collegeGPA'])\n",
        "plt.show()"
      ],
      "execution_count": null,
      "outputs": []
    },
    {
      "cell_type": "code",
      "metadata": {
        "id": "sJAu9AKeNtZz"
      },
      "source": [
        "df.boxplot(column=['CollegeCityID'])\n",
        "plt.show()"
      ],
      "execution_count": null,
      "outputs": []
    },
    {
      "cell_type": "code",
      "metadata": {
        "id": "j9RdqzgrNuCH"
      },
      "source": [
        "df.boxplot(column=['GraduationYear'])\n",
        "plt.show()"
      ],
      "execution_count": null,
      "outputs": []
    },
    {
      "cell_type": "code",
      "metadata": {
        "id": "Ps-bG9JmNus4"
      },
      "source": [
        "df.boxplot(column=['English'])\n",
        "plt.show()"
      ],
      "execution_count": null,
      "outputs": []
    },
    {
      "cell_type": "code",
      "metadata": {
        "id": "OPVi_FfXNvOb"
      },
      "source": [
        "df.boxplot(column=['Logical'])\n",
        "plt.show()"
      ],
      "execution_count": null,
      "outputs": []
    },
    {
      "cell_type": "code",
      "metadata": {
        "id": "hngz9T14Nvu2"
      },
      "source": [
        "df.boxplot(column=['Quant'])\n",
        "plt.show()"
      ],
      "execution_count": null,
      "outputs": []
    },
    {
      "cell_type": "code",
      "metadata": {
        "id": "8nfBAX47NwU2"
      },
      "source": [
        "df.boxplot(column=['Domain'])\n",
        "plt.show()"
      ],
      "execution_count": null,
      "outputs": []
    },
    {
      "cell_type": "code",
      "metadata": {
        "id": "tSvqUQUCNw3K"
      },
      "source": [
        "df.boxplot(column=['ComputerProgramming'])\n",
        "plt.show()"
      ],
      "execution_count": null,
      "outputs": []
    },
    {
      "cell_type": "code",
      "metadata": {
        "id": "1NQ6q1bJNxjQ"
      },
      "source": [
        "df.boxplot(column=['ElectronicsAndSemicon'])\n",
        "plt.show()"
      ],
      "execution_count": null,
      "outputs": []
    },
    {
      "cell_type": "code",
      "metadata": {
        "id": "vH1Q1h2NNyBW"
      },
      "source": [
        "df.boxplot(column=['ComputerScience'])\n",
        "plt.show()"
      ],
      "execution_count": null,
      "outputs": []
    },
    {
      "cell_type": "code",
      "metadata": {
        "id": "0s-HdWckNye3"
      },
      "source": [
        "df.boxplot(column=['MechanicalEngg'])\n",
        "plt.show()"
      ],
      "execution_count": null,
      "outputs": []
    },
    {
      "cell_type": "code",
      "metadata": {
        "id": "WW3VjHtkO5-6"
      },
      "source": [
        "df.boxplot(column=['ElectricalEngg'])\n",
        "plt.show()"
      ],
      "execution_count": null,
      "outputs": []
    },
    {
      "cell_type": "code",
      "metadata": {
        "id": "j3EIEtPZO8aT"
      },
      "source": [
        "df.boxplot(column=['TelecomEngg'])\n",
        "plt.show()"
      ],
      "execution_count": null,
      "outputs": []
    },
    {
      "cell_type": "code",
      "metadata": {
        "id": "7GerQ844O-TZ"
      },
      "source": [
        "df.boxplot(column=['CivilEngg'])\n",
        "plt.show()"
      ],
      "execution_count": null,
      "outputs": []
    },
    {
      "cell_type": "code",
      "metadata": {
        "id": "2VYhZul6PAVt"
      },
      "source": [
        "df.boxplot(column=['conscientiousness'])\n",
        "plt.show()"
      ],
      "execution_count": null,
      "outputs": []
    },
    {
      "cell_type": "code",
      "metadata": {
        "id": "p_CM3bcCPAPJ"
      },
      "source": [
        "df.boxplot(column=['agreeableness'])\n",
        "plt.show()"
      ],
      "execution_count": null,
      "outputs": []
    },
    {
      "cell_type": "code",
      "metadata": {
        "id": "ArGI6W8yPY0C"
      },
      "source": [
        "df.boxplot(column=['extraversion'])\n",
        "plt.show()"
      ],
      "execution_count": null,
      "outputs": []
    },
    {
      "cell_type": "code",
      "metadata": {
        "id": "AHrCLtdGPZah"
      },
      "source": [
        "df.boxplot(column=['nueroticism'])\n",
        "plt.show()"
      ],
      "execution_count": null,
      "outputs": []
    },
    {
      "cell_type": "code",
      "metadata": {
        "id": "mf8-bjTFPkaN"
      },
      "source": [
        "df.boxplot(column=['openess_to_experience'])\n",
        "plt.show()"
      ],
      "execution_count": null,
      "outputs": []
    }
  ]
}